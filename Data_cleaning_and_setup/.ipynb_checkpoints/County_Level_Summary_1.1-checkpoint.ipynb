{
 "cells": [
  {
   "cell_type": "markdown",
   "metadata": {},
   "source": [
    "# County Level Summary  \n",
    "\n",
    "The purpose of this notebook is to create county level summaries of the fitnessgram and academic test scores data."
   ]
  },
  {
   "cell_type": "markdown",
   "metadata": {},
   "source": [
    "## Load Data"
   ]
  },
  {
   "cell_type": "code",
   "execution_count": 23,
   "metadata": {
    "collapsed": true
   },
   "outputs": [],
   "source": [
    "#Import Packages\n",
    "import os\n",
    "import pandas as pd\n",
    "from IPython.display import display\n",
    "pd.options.display.max_rows = 101\n",
    "\n",
    "\n",
    "#*******************************************************************************\n",
    "#*******************************************************************************\n",
    "#Set these file paths for your own local machine before running\n",
    "#*******************************************************************************\n",
    "#*******************************************************************************\n",
    "\n",
    "#Set file path containing fitnessgram data\n",
    "datapath = \"/Users/nwchen24/Desktop/UC_Berkeley/w209_Data_Viz/final_proj_repo2/Combined_Data/\"\n",
    "\n",
    "fitnessgram_datapath = \"/Users/nwchen24/Desktop/UC_Berkeley/w209_Data_Viz/final_project_data/Fitnessgram_Results\"\n",
    "\n",
    "combined_outfile = 'Comb_County_lvl_Fitnessgram_Academic_2014_2016_1.1.csv'"
   ]
  },
  {
   "cell_type": "code",
   "execution_count": 15,
   "metadata": {
    "collapsed": false
   },
   "outputs": [],
   "source": [
    "combined_data = pd.read_csv(datapath + 'Comb_Fitnessgram_Academic_2014_2016_1.1.csv')\n",
    "combined_data = combined_data.drop(['Unnamed: 0', 'NoHFZ9_aerobic', 'NoHFZ9_bodycomp'], axis = 1)"
   ]
  },
  {
   "cell_type": "code",
   "execution_count": 16,
   "metadata": {
    "collapsed": false
   },
   "outputs": [
    {
     "data": {
      "text/plain": [
       "Index([u'County_Name', u'School_Name', u'Subgroup', u'NoStud9_aerobic',\n",
       "       u'Perc9HFZ_aerobic', u'Perc9NI_aerobic', u'Perc9NI_HR_aerobic',\n",
       "       u'NoStud9_bodycomp', u'Perc9HFZ_bodycomp', u'Perc9NI_bodycomp',\n",
       "       u'Perc9NI_HR_bodycomp', u'Mean_Academic_Test_Score',\n",
       "       u'Students_Tested_Academic',\n",
       "       u'Total_Tested_At_Subgroup_Level_Academic'],\n",
       "      dtype='object')"
      ]
     },
     "execution_count": 16,
     "metadata": {},
     "output_type": "execute_result"
    }
   ],
   "source": [
    "combined_data.columns"
   ]
  },
  {
   "cell_type": "markdown",
   "metadata": {},
   "source": [
    "### Get Fitness Data on County Level"
   ]
  },
  {
   "cell_type": "code",
   "execution_count": 29,
   "metadata": {
    "collapsed": false,
    "scrolled": true
   },
   "outputs": [
    {
     "data": {
      "text/plain": [
       "County_Name                                        object\n",
       "fitness_pct_HFZ_All                               float64\n",
       "fitness_pct_HFZ_Economic_disadv                   float64\n",
       "fitness_pct_HFZ_NOT_economic_disadv               float64\n",
       "fitness_pct_unhealthy_comb_ALL                    float64\n",
       "fitness_pct_unhealthy_comb_Economic_disadv        float64\n",
       "fitness_pct_unhealthy_comb_NOT_economic_disadv    float64\n",
       "dtype: object"
      ]
     },
     "execution_count": 29,
     "metadata": {},
     "output_type": "execute_result"
    }
   ],
   "source": [
    "#Get county level results for fitnessgram\n",
    "#First, get average of percentage of students in each zone for aerobic and bodycomp\n",
    "combined_data_fitness = combined_data.drop(['Mean_Academic_Test_Score', 'Students_Tested_Academic', 'Total_Tested_At_Subgroup_Level_Academic'], axis = 1)\n",
    "\n",
    "combined_data_fitness['fitness_comb_HFZ_pct'] = (combined_data_fitness['Perc9HFZ_aerobic'] + combined_data_fitness['Perc9HFZ_bodycomp']) / 2\n",
    "combined_data_fitness = combined_data_fitness.drop(['Perc9HFZ_aerobic', 'Perc9HFZ_bodycomp'], axis = 1)\n",
    "\n",
    "combined_data_fitness['fitness_comb_NI_pct'] = (combined_data_fitness['Perc9NI_aerobic'] + combined_data_fitness['Perc9NI_bodycomp']) / 2\n",
    "combined_data_fitness = combined_data_fitness.drop(['Perc9NI_aerobic', 'Perc9NI_bodycomp'], axis = 1)\n",
    "\n",
    "combined_data_fitness['fitness_comb_NI_HR_pct'] = (combined_data_fitness['Perc9NI_HR_aerobic'] + combined_data_fitness['Perc9NI_HR_bodycomp']) / 2\n",
    "combined_data_fitness = combined_data_fitness.drop(['Perc9NI_HR_aerobic', 'Perc9NI_HR_bodycomp'], axis = 1)\n",
    "\n",
    "combined_data_fitness['fitness_number_students'] = combined_data_fitness['NoStud9_aerobic']\n",
    "combined_data_fitness = combined_data_fitness.drop(['NoStud9_aerobic', 'NoStud9_bodycomp'], axis = 1)\n",
    "\n",
    "#Second, calculate number of students at each school in each zone\n",
    "combined_data_fitness['fitness_num_HFZ'] = combined_data_fitness['fitness_comb_HFZ_pct'] / 100. * combined_data_fitness['fitness_number_students']\n",
    "combined_data_fitness = combined_data_fitness.drop(['fitness_comb_HFZ_pct'], axis = 1)\n",
    "\n",
    "combined_data_fitness['fitness_num_NI'] = combined_data_fitness['fitness_comb_NI_pct'] / 100. * combined_data_fitness['fitness_number_students']\n",
    "combined_data_fitness = combined_data_fitness.drop(['fitness_comb_NI_pct'], axis = 1)\n",
    "\n",
    "combined_data_fitness['fitness_num_NI_HR'] = combined_data_fitness['fitness_comb_NI_HR_pct'] / 100. * combined_data_fitness['fitness_number_students']\n",
    "combined_data_fitness = combined_data_fitness.drop(['fitness_comb_NI_HR_pct'], axis = 1)\n",
    "\n",
    "#Third, sum by county and subgroup\n",
    "#combined_data_fitness = combined_data_fitness.drop(['District_Code', 'School_Code'], axis = 1)\n",
    "\n",
    "combined_data_fitness_county_grp = combined_data_fitness.groupby(['County_Name', 'Subgroup'], as_index=False).sum()\n",
    "\n",
    "#Fourth, calculate percentage of students in each count in each zone\n",
    "combined_data_fitness_county_grp['fitness_pct_HFZ'] = combined_data_fitness_county_grp['fitness_num_HFZ'] / combined_data_fitness_county_grp['fitness_number_students']\n",
    "combined_data_fitness_county_grp['fitness_pct_NI'] = combined_data_fitness_county_grp['fitness_num_NI'] / combined_data_fitness_county_grp['fitness_number_students']\n",
    "combined_data_fitness_county_grp['fitness_pct_NI_HR'] = combined_data_fitness_county_grp['fitness_num_NI_HR'] / combined_data_fitness_county_grp['fitness_number_students']\n",
    "\n",
    "combined_data_fitness_county_grp = combined_data_fitness_county_grp.drop(['fitness_num_HFZ', 'fitness_num_NI', 'fitness_num_NI_HR', 'fitness_number_students'], axis = 1)\n",
    "combined_data_fitness_county_grp.head(25)\n",
    "\n",
    "#Fifth, reshape long to wide\n",
    "combined_data_fitness_county = pd.pivot_table(combined_data_fitness_county_grp, values = ['fitness_pct_HFZ', 'fitness_pct_NI', 'fitness_pct_NI_HR'], index = ['County_Name'], columns = ['Subgroup'])\n",
    "\n",
    "combined_data_fitness_county.columns = ['_'.join(col).strip() for col in combined_data_fitness_county.columns.values]\n",
    "\n",
    "combined_data_fitness_county = combined_data_fitness_county.reset_index()\n",
    "\n",
    "#combine the unhealthy fitness zones into one column\n",
    "combined_data_fitness_county['fitness_pct_unhealthy_comb_ALL'] = combined_data_fitness_county['fitness_pct_NI_All'] + combined_data_fitness_county['fitness_pct_NI_HR_All']\n",
    "combined_data_fitness_county['fitness_pct_unhealthy_comb_Economic_disadv'] = combined_data_fitness_county['fitness_pct_NI_Economic_disadv'] + combined_data_fitness_county['fitness_pct_NI_HR_Economic_disadv']\n",
    "combined_data_fitness_county['fitness_pct_unhealthy_comb_NOT_economic_disadv'] = combined_data_fitness_county['fitness_pct_NI_NOT_economic_disadv'] + combined_data_fitness_county['fitness_pct_NI_HR_NOT_economic_disadv']\n",
    "\n",
    "combined_data_fitness_county = combined_data_fitness_county.drop(['fitness_pct_NI_All', 'fitness_pct_NI_HR_All', 'fitness_pct_NI_Economic_disadv', 'fitness_pct_NI_HR_Economic_disadv', 'fitness_pct_NI_NOT_economic_disadv', 'fitness_pct_NI_HR_NOT_economic_disadv'], axis = 1)\n",
    "\n",
    "combined_data_fitness_county.dtypes\n"
   ]
  },
  {
   "cell_type": "markdown",
   "metadata": {},
   "source": [
    "### Get Academic Data on County Level"
   ]
  },
  {
   "cell_type": "code",
   "execution_count": 30,
   "metadata": {
    "collapsed": false,
    "scrolled": true
   },
   "outputs": [
    {
     "name": "stderr",
     "output_type": "stream",
     "text": [
      "/Users/nwchen24/anaconda/envs/Machine_learning_python2/lib/python2.7/site-packages/ipykernel/__main__.py:5: SettingWithCopyWarning: \n",
      "A value is trying to be set on a copy of a slice from a DataFrame.\n",
      "Try using .loc[row_indexer,col_indexer] = value instead\n",
      "\n",
      "See the caveats in the documentation: http://pandas.pydata.org/pandas-docs/stable/indexing.html#indexing-view-versus-copy\n"
     ]
    },
    {
     "data": {
      "text/html": [
       "<div>\n",
       "<table border=\"1\" class=\"dataframe\">\n",
       "  <thead>\n",
       "    <tr style=\"text-align: right;\">\n",
       "      <th></th>\n",
       "      <th>County_Name</th>\n",
       "      <th>academic_wght_avg_score_All</th>\n",
       "      <th>academic_wght_avg_score_Economic_disadv</th>\n",
       "      <th>academic_wght_avg_score_NOT_economic_disadv</th>\n",
       "    </tr>\n",
       "  </thead>\n",
       "  <tbody>\n",
       "    <tr>\n",
       "      <th>0</th>\n",
       "      <td>Alameda</td>\n",
       "      <td>355.271326</td>\n",
       "      <td>325.452097</td>\n",
       "      <td>384.876137</td>\n",
       "    </tr>\n",
       "    <tr>\n",
       "      <th>1</th>\n",
       "      <td>Alpine</td>\n",
       "      <td>NaN</td>\n",
       "      <td>NaN</td>\n",
       "      <td>NaN</td>\n",
       "    </tr>\n",
       "    <tr>\n",
       "      <th>2</th>\n",
       "      <td>Amador</td>\n",
       "      <td>269.833396</td>\n",
       "      <td>188.150312</td>\n",
       "      <td>332.966741</td>\n",
       "    </tr>\n",
       "    <tr>\n",
       "      <th>3</th>\n",
       "      <td>Butte</td>\n",
       "      <td>345.173664</td>\n",
       "      <td>334.487911</td>\n",
       "      <td>353.390633</td>\n",
       "    </tr>\n",
       "    <tr>\n",
       "      <th>4</th>\n",
       "      <td>Calaveras</td>\n",
       "      <td>355.557867</td>\n",
       "      <td>337.673849</td>\n",
       "      <td>366.480685</td>\n",
       "    </tr>\n",
       "  </tbody>\n",
       "</table>\n",
       "</div>"
      ],
      "text/plain": [
       "  County_Name  academic_wght_avg_score_All  \\\n",
       "0     Alameda                   355.271326   \n",
       "1      Alpine                          NaN   \n",
       "2      Amador                   269.833396   \n",
       "3       Butte                   345.173664   \n",
       "4   Calaveras                   355.557867   \n",
       "\n",
       "   academic_wght_avg_score_Economic_disadv  \\\n",
       "0                               325.452097   \n",
       "1                                      NaN   \n",
       "2                               188.150312   \n",
       "3                               334.487911   \n",
       "4                               337.673849   \n",
       "\n",
       "   academic_wght_avg_score_NOT_economic_disadv  \n",
       "0                                   384.876137  \n",
       "1                                          NaN  \n",
       "2                                   332.966741  \n",
       "3                                   353.390633  \n",
       "4                                   366.480685  "
      ]
     },
     "execution_count": 30,
     "metadata": {},
     "output_type": "execute_result"
    }
   ],
   "source": [
    "#Get county level results for fitnessgram\n",
    "#First, get number of student points in each school\n",
    "combined_data_academic = combined_data[['County_Name', 'Subgroup', 'Mean_Academic_Test_Score', 'Students_Tested_Academic', 'Total_Tested_At_Subgroup_Level_Academic']]\n",
    "\n",
    "combined_data_academic['student_points'] = combined_data_academic['Mean_Academic_Test_Score'] * combined_data_academic['Total_Tested_At_Subgroup_Level_Academic']\n",
    "combined_data_academic = combined_data_academic.drop(['Mean_Academic_Test_Score', 'Students_Tested_Academic'], axis = 1)\n",
    "\n",
    "#sum by county and subgroup\n",
    "combined_data_academic_county_group = combined_data_academic.groupby(['County_Name', 'Subgroup'], as_index=False).sum()\n",
    "\n",
    "#get weighted average score at county level\n",
    "combined_data_academic_county_group['academic_wght_avg_score'] = combined_data_academic_county_group['student_points'] / combined_data_academic_county_group['Total_Tested_At_Subgroup_Level_Academic']\n",
    "combined_data_academic_county_group = combined_data_academic_county_group.drop(['Total_Tested_At_Subgroup_Level_Academic', 'student_points'], axis = 1)\n",
    "\n",
    "#reshape long to wide\n",
    "combined_data_academic_county = pd.pivot_table(combined_data_academic_county_group, values = ['academic_wght_avg_score'], index = ['County_Name'], columns = ['Subgroup'])\n",
    "\n",
    "combined_data_academic_county.columns = ['_'.join(col).strip() for col in combined_data_academic_county.columns.values]\n",
    "\n",
    "combined_data_academic_county = combined_data_academic_county.reset_index()\n",
    "\n",
    "\n",
    "combined_data_academic_county.head()"
   ]
  },
  {
   "cell_type": "markdown",
   "metadata": {},
   "source": [
    "### Merge Academic and Fitness"
   ]
  },
  {
   "cell_type": "code",
   "execution_count": 31,
   "metadata": {
    "collapsed": false
   },
   "outputs": [
    {
     "data": {
      "text/html": [
       "<div>\n",
       "<table border=\"1\" class=\"dataframe\">\n",
       "  <thead>\n",
       "    <tr style=\"text-align: right;\">\n",
       "      <th></th>\n",
       "      <th>County_Name</th>\n",
       "      <th>academic_wght_avg_score_All</th>\n",
       "      <th>academic_wght_avg_score_Economic_disadv</th>\n",
       "      <th>academic_wght_avg_score_NOT_economic_disadv</th>\n",
       "      <th>fitness_pct_HFZ_All</th>\n",
       "      <th>fitness_pct_HFZ_Economic_disadv</th>\n",
       "      <th>fitness_pct_HFZ_NOT_economic_disadv</th>\n",
       "      <th>fitness_pct_unhealthy_comb_ALL</th>\n",
       "      <th>fitness_pct_unhealthy_comb_Economic_disadv</th>\n",
       "      <th>fitness_pct_unhealthy_comb_NOT_economic_disadv</th>\n",
       "    </tr>\n",
       "  </thead>\n",
       "  <tbody>\n",
       "    <tr>\n",
       "      <th>0</th>\n",
       "      <td>Alameda</td>\n",
       "      <td>355.271326</td>\n",
       "      <td>325.452097</td>\n",
       "      <td>384.876137</td>\n",
       "      <td>0.642583</td>\n",
       "      <td>0.520962</td>\n",
       "      <td>0.734620</td>\n",
       "      <td>0.355606</td>\n",
       "      <td>0.442271</td>\n",
       "      <td>0.231707</td>\n",
       "    </tr>\n",
       "    <tr>\n",
       "      <th>1</th>\n",
       "      <td>Alpine</td>\n",
       "      <td>NaN</td>\n",
       "      <td>NaN</td>\n",
       "      <td>NaN</td>\n",
       "      <td>NaN</td>\n",
       "      <td>NaN</td>\n",
       "      <td>NaN</td>\n",
       "      <td>NaN</td>\n",
       "      <td>NaN</td>\n",
       "      <td>NaN</td>\n",
       "    </tr>\n",
       "    <tr>\n",
       "      <th>2</th>\n",
       "      <td>Amador</td>\n",
       "      <td>269.833396</td>\n",
       "      <td>188.150312</td>\n",
       "      <td>332.966741</td>\n",
       "      <td>0.668490</td>\n",
       "      <td>0.587222</td>\n",
       "      <td>0.702264</td>\n",
       "      <td>0.298901</td>\n",
       "      <td>0.331786</td>\n",
       "      <td>0.265178</td>\n",
       "    </tr>\n",
       "    <tr>\n",
       "      <th>3</th>\n",
       "      <td>Butte</td>\n",
       "      <td>345.173664</td>\n",
       "      <td>334.487911</td>\n",
       "      <td>353.390633</td>\n",
       "      <td>0.657105</td>\n",
       "      <td>0.587467</td>\n",
       "      <td>0.743108</td>\n",
       "      <td>0.324662</td>\n",
       "      <td>0.388525</td>\n",
       "      <td>0.226653</td>\n",
       "    </tr>\n",
       "    <tr>\n",
       "      <th>4</th>\n",
       "      <td>Calaveras</td>\n",
       "      <td>355.557867</td>\n",
       "      <td>337.673849</td>\n",
       "      <td>366.480685</td>\n",
       "      <td>0.644996</td>\n",
       "      <td>0.602104</td>\n",
       "      <td>0.685488</td>\n",
       "      <td>0.349932</td>\n",
       "      <td>0.375370</td>\n",
       "      <td>0.314512</td>\n",
       "    </tr>\n",
       "  </tbody>\n",
       "</table>\n",
       "</div>"
      ],
      "text/plain": [
       "  County_Name  academic_wght_avg_score_All  \\\n",
       "0     Alameda                   355.271326   \n",
       "1      Alpine                          NaN   \n",
       "2      Amador                   269.833396   \n",
       "3       Butte                   345.173664   \n",
       "4   Calaveras                   355.557867   \n",
       "\n",
       "   academic_wght_avg_score_Economic_disadv  \\\n",
       "0                               325.452097   \n",
       "1                                      NaN   \n",
       "2                               188.150312   \n",
       "3                               334.487911   \n",
       "4                               337.673849   \n",
       "\n",
       "   academic_wght_avg_score_NOT_economic_disadv  fitness_pct_HFZ_All  \\\n",
       "0                                   384.876137             0.642583   \n",
       "1                                          NaN                  NaN   \n",
       "2                                   332.966741             0.668490   \n",
       "3                                   353.390633             0.657105   \n",
       "4                                   366.480685             0.644996   \n",
       "\n",
       "   fitness_pct_HFZ_Economic_disadv  fitness_pct_HFZ_NOT_economic_disadv  \\\n",
       "0                         0.520962                             0.734620   \n",
       "1                              NaN                                  NaN   \n",
       "2                         0.587222                             0.702264   \n",
       "3                         0.587467                             0.743108   \n",
       "4                         0.602104                             0.685488   \n",
       "\n",
       "   fitness_pct_unhealthy_comb_ALL  fitness_pct_unhealthy_comb_Economic_disadv  \\\n",
       "0                        0.355606                                    0.442271   \n",
       "1                             NaN                                         NaN   \n",
       "2                        0.298901                                    0.331786   \n",
       "3                        0.324662                                    0.388525   \n",
       "4                        0.349932                                    0.375370   \n",
       "\n",
       "   fitness_pct_unhealthy_comb_NOT_economic_disadv  \n",
       "0                                        0.231707  \n",
       "1                                             NaN  \n",
       "2                                        0.265178  \n",
       "3                                        0.226653  \n",
       "4                                        0.314512  "
      ]
     },
     "execution_count": 31,
     "metadata": {},
     "output_type": "execute_result"
    }
   ],
   "source": [
    "County_level_combined_data = pd.merge(left = combined_data_academic_county, right = combined_data_fitness_county, on = 'County_Name')\n",
    "\n",
    "County_level_combined_data.head()\n",
    "\n",
    "#County_level_combined_data.shape"
   ]
  },
  {
   "cell_type": "markdown",
   "metadata": {},
   "source": [
    "### Export"
   ]
  },
  {
   "cell_type": "code",
   "execution_count": 32,
   "metadata": {
    "collapsed": false
   },
   "outputs": [],
   "source": [
    "County_level_combined_data.to_csv(datapath + combined_outfile)"
   ]
  },
  {
   "cell_type": "code",
   "execution_count": null,
   "metadata": {
    "collapsed": true
   },
   "outputs": [],
   "source": []
  }
 ],
 "metadata": {
  "anaconda-cloud": {},
  "kernelspec": {
   "display_name": "Python [conda env:Machine_learning_python2]",
   "language": "python",
   "name": "conda-env-Machine_learning_python2-py"
  },
  "language_info": {
   "codemirror_mode": {
    "name": "ipython",
    "version": 2
   },
   "file_extension": ".py",
   "mimetype": "text/x-python",
   "name": "python",
   "nbconvert_exporter": "python",
   "pygments_lexer": "ipython2",
   "version": "2.7.13"
  }
 },
 "nbformat": 4,
 "nbformat_minor": 1
}
