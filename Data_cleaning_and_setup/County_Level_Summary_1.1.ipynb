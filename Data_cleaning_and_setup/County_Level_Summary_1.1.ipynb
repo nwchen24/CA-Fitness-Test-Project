{
 "cells": [
  {
   "cell_type": "markdown",
   "metadata": {},
   "source": [
    "# County Level Summary  \n",
    "\n",
    "The purpose of this notebook is to create county level summaries of the fitnessgram and academic test scores data."
   ]
  },
  {
   "cell_type": "markdown",
   "metadata": {},
   "source": [
    "## Load Data"
   ]
  },
  {
   "cell_type": "code",
   "execution_count": 62,
   "metadata": {
    "collapsed": true
   },
   "outputs": [],
   "source": [
    "#Import Packages\n",
    "import os\n",
    "import pandas as pd\n",
    "from IPython.display import display\n",
    "pd.options.display.max_rows = 101\n",
    "\n",
    "\n",
    "#*******************************************************************************\n",
    "#*******************************************************************************\n",
    "#Set these file paths for your own local machine before running\n",
    "#*******************************************************************************\n",
    "#*******************************************************************************\n",
    "\n",
    "#Set file path containing fitnessgram data\n",
    "datapath = \"/Users/nwchen24/Desktop/UC_Berkeley/w209_Data_Viz/final_proj_repo2/Combined_Data/\"\n",
    "\n",
    "fitnessgram_datapath = \"/Users/nwchen24/Desktop/UC_Berkeley/w209_Data_Viz/final_project_data/Fitnessgram_Results\"\n",
    "\n",
    "combined_outfile = 'Comb_County_lvl_Fitnessgram_Academic_2014_2016_1.1.csv'"
   ]
  },
  {
   "cell_type": "code",
   "execution_count": 63,
   "metadata": {
    "collapsed": false
   },
   "outputs": [],
   "source": [
    "combined_data = pd.read_csv(datapath + 'Comb_Fitnessgram_Academic_2014_2016_1.1.csv')\n",
    "combined_data = combined_data.drop(['Unnamed: 0'], axis = 1)"
   ]
  },
  {
   "cell_type": "code",
   "execution_count": 64,
   "metadata": {
    "collapsed": false
   },
   "outputs": [
    {
     "data": {
      "text/plain": [
       "County_Name                                 object\n",
       "School_Name                                 object\n",
       "Subgroup                                    object\n",
       "Number_Students_Total                      float64\n",
       "Number_Students_Healthy                    float64\n",
       "Number_Students_Unhealthy                  float64\n",
       "Mean_Academic_Test_Score                   float64\n",
       "Students_Tested_Academic                   float64\n",
       "Total_Tested_At_Subgroup_Level_Academic    float64\n",
       "dtype: object"
      ]
     },
     "execution_count": 64,
     "metadata": {},
     "output_type": "execute_result"
    }
   ],
   "source": [
    "combined_data.dtypes"
   ]
  },
  {
   "cell_type": "markdown",
   "metadata": {},
   "source": [
    "### Get Fitness Data on County Level"
   ]
  },
  {
   "cell_type": "code",
   "execution_count": 65,
   "metadata": {
    "collapsed": false,
    "scrolled": true
   },
   "outputs": [
    {
     "name": "stdout",
     "output_type": "stream",
     "text": [
      "County_Name                                   object\n",
      "fitness_pct_Healthy_All                      float64\n",
      "fitness_pct_Healthy_Economic_disadv          float64\n",
      "fitness_pct_Healthy_NOT_economic_disadv      float64\n",
      "fitness_pct_Unhealthy_All                    float64\n",
      "fitness_pct_Unhealthy_Economic_disadv        float64\n",
      "fitness_pct_Unhealthy_NOT_economic_disadv    float64\n",
      "dtype: object\n",
      "(58, 7)\n"
     ]
    },
    {
     "data": {
      "text/html": [
       "<div>\n",
       "<table border=\"1\" class=\"dataframe\">\n",
       "  <thead>\n",
       "    <tr style=\"text-align: right;\">\n",
       "      <th></th>\n",
       "      <th>County_Name</th>\n",
       "      <th>fitness_pct_Healthy_All</th>\n",
       "      <th>fitness_pct_Healthy_Economic_disadv</th>\n",
       "      <th>fitness_pct_Healthy_NOT_economic_disadv</th>\n",
       "      <th>fitness_pct_Unhealthy_All</th>\n",
       "      <th>fitness_pct_Unhealthy_Economic_disadv</th>\n",
       "      <th>fitness_pct_Unhealthy_NOT_economic_disadv</th>\n",
       "    </tr>\n",
       "  </thead>\n",
       "  <tbody>\n",
       "    <tr>\n",
       "      <th>0</th>\n",
       "      <td>Alameda</td>\n",
       "      <td>0.653630</td>\n",
       "      <td>0.532795</td>\n",
       "      <td>0.750080</td>\n",
       "      <td>0.344524</td>\n",
       "      <td>0.462387</td>\n",
       "      <td>0.241550</td>\n",
       "    </tr>\n",
       "    <tr>\n",
       "      <th>1</th>\n",
       "      <td>Alpine</td>\n",
       "      <td>NaN</td>\n",
       "      <td>NaN</td>\n",
       "      <td>NaN</td>\n",
       "      <td>NaN</td>\n",
       "      <td>NaN</td>\n",
       "      <td>NaN</td>\n",
       "    </tr>\n",
       "    <tr>\n",
       "      <th>2</th>\n",
       "      <td>Amador</td>\n",
       "      <td>0.670318</td>\n",
       "      <td>0.591973</td>\n",
       "      <td>0.705993</td>\n",
       "      <td>0.296824</td>\n",
       "      <td>0.337793</td>\n",
       "      <td>0.267790</td>\n",
       "    </tr>\n",
       "    <tr>\n",
       "      <th>3</th>\n",
       "      <td>Butte</td>\n",
       "      <td>0.658652</td>\n",
       "      <td>0.594370</td>\n",
       "      <td>0.742945</td>\n",
       "      <td>0.325426</td>\n",
       "      <td>0.379072</td>\n",
       "      <td>0.230375</td>\n",
       "    </tr>\n",
       "    <tr>\n",
       "      <th>4</th>\n",
       "      <td>Calaveras</td>\n",
       "      <td>0.641667</td>\n",
       "      <td>0.604538</td>\n",
       "      <td>0.683206</td>\n",
       "      <td>0.343841</td>\n",
       "      <td>0.367909</td>\n",
       "      <td>0.311705</td>\n",
       "    </tr>\n",
       "  </tbody>\n",
       "</table>\n",
       "</div>"
      ],
      "text/plain": [
       "  County_Name  fitness_pct_Healthy_All  fitness_pct_Healthy_Economic_disadv  \\\n",
       "0     Alameda                 0.653630                             0.532795   \n",
       "1      Alpine                      NaN                                  NaN   \n",
       "2      Amador                 0.670318                             0.591973   \n",
       "3       Butte                 0.658652                             0.594370   \n",
       "4   Calaveras                 0.641667                             0.604538   \n",
       "\n",
       "   fitness_pct_Healthy_NOT_economic_disadv  fitness_pct_Unhealthy_All  \\\n",
       "0                                 0.750080                   0.344524   \n",
       "1                                      NaN                        NaN   \n",
       "2                                 0.705993                   0.296824   \n",
       "3                                 0.742945                   0.325426   \n",
       "4                                 0.683206                   0.343841   \n",
       "\n",
       "   fitness_pct_Unhealthy_Economic_disadv  \\\n",
       "0                               0.462387   \n",
       "1                                    NaN   \n",
       "2                               0.337793   \n",
       "3                               0.379072   \n",
       "4                               0.367909   \n",
       "\n",
       "   fitness_pct_Unhealthy_NOT_economic_disadv  \n",
       "0                                   0.241550  \n",
       "1                                        NaN  \n",
       "2                                   0.267790  \n",
       "3                                   0.230375  \n",
       "4                                   0.311705  "
      ]
     },
     "execution_count": 65,
     "metadata": {},
     "output_type": "execute_result"
    }
   ],
   "source": [
    "#Get county level results for fitnessgram\n",
    "#First, get average of percentage of students in each zone for aerobic and bodycomp\n",
    "combined_data_fitness = combined_data.drop(['Mean_Academic_Test_Score', 'Students_Tested_Academic', 'Total_Tested_At_Subgroup_Level_Academic'], axis = 1)\n",
    "\n",
    "#Get county level results for fitnessgram\n",
    "combined_data_fitness_county_grp = combined_data_fitness.groupby(['County_Name', 'Subgroup'], as_index=False).sum()\n",
    "\n",
    "#Fourth, calculate percentage of students in each count in each zone\n",
    "combined_data_fitness_county_grp['fitness_pct_Healthy'] = combined_data_fitness_county_grp['Number_Students_Healthy'] / combined_data_fitness_county_grp['Number_Students_Total']\n",
    "combined_data_fitness_county_grp['fitness_pct_Unhealthy'] = combined_data_fitness_county_grp['Number_Students_Unhealthy'] / combined_data_fitness_county_grp['Number_Students_Total']\n",
    "\n",
    "combined_data_fitness_county_grp = combined_data_fitness_county_grp.drop(['Number_Students_Healthy', 'Number_Students_Unhealthy', 'Number_Students_Total'], axis = 1)\n",
    "\n",
    "#Fifth, reshape long to wide\n",
    "combined_data_fitness_county = pd.pivot_table(combined_data_fitness_county_grp, values = ['fitness_pct_Healthy', 'fitness_pct_Unhealthy'], index = ['County_Name'], columns = ['Subgroup'])\n",
    "\n",
    "#rename columns\n",
    "combined_data_fitness_county.columns = ['_'.join(col).strip() for col in combined_data_fitness_county.columns.values]\n",
    "\n",
    "combined_data_fitness_county = combined_data_fitness_county.reset_index()\n",
    "\n",
    "print combined_data_fitness_county.dtypes\n",
    "print combined_data_fitness_county.shape\n",
    "combined_data_fitness_county.head()"
   ]
  },
  {
   "cell_type": "markdown",
   "metadata": {},
   "source": [
    "### Get Academic Data on County Level"
   ]
  },
  {
   "cell_type": "code",
   "execution_count": 66,
   "metadata": {
    "collapsed": false,
    "scrolled": true
   },
   "outputs": [
    {
     "name": "stderr",
     "output_type": "stream",
     "text": [
      "/Users/nwchen24/anaconda/envs/Machine_learning_python2/lib/python2.7/site-packages/ipykernel/__main__.py:5: SettingWithCopyWarning: \n",
      "A value is trying to be set on a copy of a slice from a DataFrame.\n",
      "Try using .loc[row_indexer,col_indexer] = value instead\n",
      "\n",
      "See the caveats in the documentation: http://pandas.pydata.org/pandas-docs/stable/indexing.html#indexing-view-versus-copy\n"
     ]
    },
    {
     "data": {
      "text/html": [
       "<div>\n",
       "<table border=\"1\" class=\"dataframe\">\n",
       "  <thead>\n",
       "    <tr style=\"text-align: right;\">\n",
       "      <th></th>\n",
       "      <th>County_Name</th>\n",
       "      <th>academic_wght_avg_score_All</th>\n",
       "      <th>academic_wght_avg_score_Economic_disadv</th>\n",
       "      <th>academic_wght_avg_score_NOT_economic_disadv</th>\n",
       "    </tr>\n",
       "  </thead>\n",
       "  <tbody>\n",
       "    <tr>\n",
       "      <th>0</th>\n",
       "      <td>Alameda</td>\n",
       "      <td>355.271326</td>\n",
       "      <td>325.452097</td>\n",
       "      <td>384.876137</td>\n",
       "    </tr>\n",
       "    <tr>\n",
       "      <th>1</th>\n",
       "      <td>Alpine</td>\n",
       "      <td>NaN</td>\n",
       "      <td>NaN</td>\n",
       "      <td>NaN</td>\n",
       "    </tr>\n",
       "    <tr>\n",
       "      <th>2</th>\n",
       "      <td>Amador</td>\n",
       "      <td>269.833396</td>\n",
       "      <td>188.150312</td>\n",
       "      <td>332.966741</td>\n",
       "    </tr>\n",
       "    <tr>\n",
       "      <th>3</th>\n",
       "      <td>Butte</td>\n",
       "      <td>345.173664</td>\n",
       "      <td>334.487911</td>\n",
       "      <td>353.390633</td>\n",
       "    </tr>\n",
       "    <tr>\n",
       "      <th>4</th>\n",
       "      <td>Calaveras</td>\n",
       "      <td>355.557867</td>\n",
       "      <td>337.673849</td>\n",
       "      <td>366.480685</td>\n",
       "    </tr>\n",
       "  </tbody>\n",
       "</table>\n",
       "</div>"
      ],
      "text/plain": [
       "  County_Name  academic_wght_avg_score_All  \\\n",
       "0     Alameda                   355.271326   \n",
       "1      Alpine                          NaN   \n",
       "2      Amador                   269.833396   \n",
       "3       Butte                   345.173664   \n",
       "4   Calaveras                   355.557867   \n",
       "\n",
       "   academic_wght_avg_score_Economic_disadv  \\\n",
       "0                               325.452097   \n",
       "1                                      NaN   \n",
       "2                               188.150312   \n",
       "3                               334.487911   \n",
       "4                               337.673849   \n",
       "\n",
       "   academic_wght_avg_score_NOT_economic_disadv  \n",
       "0                                   384.876137  \n",
       "1                                          NaN  \n",
       "2                                   332.966741  \n",
       "3                                   353.390633  \n",
       "4                                   366.480685  "
      ]
     },
     "execution_count": 66,
     "metadata": {},
     "output_type": "execute_result"
    }
   ],
   "source": [
    "#Get county level results for fitnessgram\n",
    "#First, get number of student points in each school\n",
    "combined_data_academic = combined_data[['County_Name', 'Subgroup', 'Mean_Academic_Test_Score', 'Students_Tested_Academic', 'Total_Tested_At_Subgroup_Level_Academic']]\n",
    "\n",
    "combined_data_academic['student_points'] = combined_data_academic['Mean_Academic_Test_Score'] * combined_data_academic['Total_Tested_At_Subgroup_Level_Academic']\n",
    "combined_data_academic = combined_data_academic.drop(['Mean_Academic_Test_Score', 'Students_Tested_Academic'], axis = 1)\n",
    "\n",
    "#sum by county and subgroup\n",
    "combined_data_academic_county_group = combined_data_academic.groupby(['County_Name', 'Subgroup'], as_index=False).sum()\n",
    "\n",
    "#get weighted average score at county level\n",
    "combined_data_academic_county_group['academic_wght_avg_score'] = combined_data_academic_county_group['student_points'] / combined_data_academic_county_group['Total_Tested_At_Subgroup_Level_Academic']\n",
    "combined_data_academic_county_group = combined_data_academic_county_group.drop(['Total_Tested_At_Subgroup_Level_Academic', 'student_points'], axis = 1)\n",
    "\n",
    "#reshape long to wide\n",
    "combined_data_academic_county = pd.pivot_table(combined_data_academic_county_group, values = ['academic_wght_avg_score'], index = ['County_Name'], columns = ['Subgroup'])\n",
    "\n",
    "combined_data_academic_county.columns = ['_'.join(col).strip() for col in combined_data_academic_county.columns.values]\n",
    "\n",
    "combined_data_academic_county = combined_data_academic_county.reset_index()\n",
    "\n",
    "\n",
    "combined_data_academic_county.head()"
   ]
  },
  {
   "cell_type": "markdown",
   "metadata": {},
   "source": [
    "### Merge Academic and Fitness"
   ]
  },
  {
   "cell_type": "code",
   "execution_count": 67,
   "metadata": {
    "collapsed": false
   },
   "outputs": [
    {
     "name": "stdout",
     "output_type": "stream",
     "text": [
      "(58, 10)\n"
     ]
    },
    {
     "data": {
      "text/html": [
       "<div>\n",
       "<table border=\"1\" class=\"dataframe\">\n",
       "  <thead>\n",
       "    <tr style=\"text-align: right;\">\n",
       "      <th></th>\n",
       "      <th>County_Name</th>\n",
       "      <th>academic_wght_avg_score_All</th>\n",
       "      <th>academic_wght_avg_score_Economic_disadv</th>\n",
       "      <th>academic_wght_avg_score_NOT_economic_disadv</th>\n",
       "      <th>fitness_pct_Healthy_All</th>\n",
       "      <th>fitness_pct_Healthy_Economic_disadv</th>\n",
       "      <th>fitness_pct_Healthy_NOT_economic_disadv</th>\n",
       "      <th>fitness_pct_Unhealthy_All</th>\n",
       "      <th>fitness_pct_Unhealthy_Economic_disadv</th>\n",
       "      <th>fitness_pct_Unhealthy_NOT_economic_disadv</th>\n",
       "    </tr>\n",
       "  </thead>\n",
       "  <tbody>\n",
       "    <tr>\n",
       "      <th>0</th>\n",
       "      <td>Alameda</td>\n",
       "      <td>355.271326</td>\n",
       "      <td>325.452097</td>\n",
       "      <td>384.876137</td>\n",
       "      <td>0.653630</td>\n",
       "      <td>0.532795</td>\n",
       "      <td>0.750080</td>\n",
       "      <td>0.344524</td>\n",
       "      <td>0.462387</td>\n",
       "      <td>0.241550</td>\n",
       "    </tr>\n",
       "    <tr>\n",
       "      <th>1</th>\n",
       "      <td>Alpine</td>\n",
       "      <td>NaN</td>\n",
       "      <td>NaN</td>\n",
       "      <td>NaN</td>\n",
       "      <td>NaN</td>\n",
       "      <td>NaN</td>\n",
       "      <td>NaN</td>\n",
       "      <td>NaN</td>\n",
       "      <td>NaN</td>\n",
       "      <td>NaN</td>\n",
       "    </tr>\n",
       "    <tr>\n",
       "      <th>2</th>\n",
       "      <td>Amador</td>\n",
       "      <td>269.833396</td>\n",
       "      <td>188.150312</td>\n",
       "      <td>332.966741</td>\n",
       "      <td>0.670318</td>\n",
       "      <td>0.591973</td>\n",
       "      <td>0.705993</td>\n",
       "      <td>0.296824</td>\n",
       "      <td>0.337793</td>\n",
       "      <td>0.267790</td>\n",
       "    </tr>\n",
       "    <tr>\n",
       "      <th>3</th>\n",
       "      <td>Butte</td>\n",
       "      <td>345.173664</td>\n",
       "      <td>334.487911</td>\n",
       "      <td>353.390633</td>\n",
       "      <td>0.658652</td>\n",
       "      <td>0.594370</td>\n",
       "      <td>0.742945</td>\n",
       "      <td>0.325426</td>\n",
       "      <td>0.379072</td>\n",
       "      <td>0.230375</td>\n",
       "    </tr>\n",
       "    <tr>\n",
       "      <th>4</th>\n",
       "      <td>Calaveras</td>\n",
       "      <td>355.557867</td>\n",
       "      <td>337.673849</td>\n",
       "      <td>366.480685</td>\n",
       "      <td>0.641667</td>\n",
       "      <td>0.604538</td>\n",
       "      <td>0.683206</td>\n",
       "      <td>0.343841</td>\n",
       "      <td>0.367909</td>\n",
       "      <td>0.311705</td>\n",
       "    </tr>\n",
       "  </tbody>\n",
       "</table>\n",
       "</div>"
      ],
      "text/plain": [
       "  County_Name  academic_wght_avg_score_All  \\\n",
       "0     Alameda                   355.271326   \n",
       "1      Alpine                          NaN   \n",
       "2      Amador                   269.833396   \n",
       "3       Butte                   345.173664   \n",
       "4   Calaveras                   355.557867   \n",
       "\n",
       "   academic_wght_avg_score_Economic_disadv  \\\n",
       "0                               325.452097   \n",
       "1                                      NaN   \n",
       "2                               188.150312   \n",
       "3                               334.487911   \n",
       "4                               337.673849   \n",
       "\n",
       "   academic_wght_avg_score_NOT_economic_disadv  fitness_pct_Healthy_All  \\\n",
       "0                                   384.876137                 0.653630   \n",
       "1                                          NaN                      NaN   \n",
       "2                                   332.966741                 0.670318   \n",
       "3                                   353.390633                 0.658652   \n",
       "4                                   366.480685                 0.641667   \n",
       "\n",
       "   fitness_pct_Healthy_Economic_disadv  \\\n",
       "0                             0.532795   \n",
       "1                                  NaN   \n",
       "2                             0.591973   \n",
       "3                             0.594370   \n",
       "4                             0.604538   \n",
       "\n",
       "   fitness_pct_Healthy_NOT_economic_disadv  fitness_pct_Unhealthy_All  \\\n",
       "0                                 0.750080                   0.344524   \n",
       "1                                      NaN                        NaN   \n",
       "2                                 0.705993                   0.296824   \n",
       "3                                 0.742945                   0.325426   \n",
       "4                                 0.683206                   0.343841   \n",
       "\n",
       "   fitness_pct_Unhealthy_Economic_disadv  \\\n",
       "0                               0.462387   \n",
       "1                                    NaN   \n",
       "2                               0.337793   \n",
       "3                               0.379072   \n",
       "4                               0.367909   \n",
       "\n",
       "   fitness_pct_Unhealthy_NOT_economic_disadv  \n",
       "0                                   0.241550  \n",
       "1                                        NaN  \n",
       "2                                   0.267790  \n",
       "3                                   0.230375  \n",
       "4                                   0.311705  "
      ]
     },
     "execution_count": 67,
     "metadata": {},
     "output_type": "execute_result"
    }
   ],
   "source": [
    "County_level_combined_data = pd.merge(left = combined_data_academic_county, right = combined_data_fitness_county, on = 'County_Name')\n",
    "\n",
    "print County_level_combined_data.shape\n",
    "\n",
    "County_level_combined_data.head()"
   ]
  },
  {
   "cell_type": "markdown",
   "metadata": {},
   "source": [
    "### Export"
   ]
  },
  {
   "cell_type": "code",
   "execution_count": 61,
   "metadata": {
    "collapsed": false
   },
   "outputs": [],
   "source": [
    "County_level_combined_data.to_csv(datapath + combined_outfile)"
   ]
  },
  {
   "cell_type": "code",
   "execution_count": null,
   "metadata": {
    "collapsed": true
   },
   "outputs": [],
   "source": []
  }
 ],
 "metadata": {
  "anaconda-cloud": {},
  "kernelspec": {
   "display_name": "Python [conda env:Machine_learning_python2]",
   "language": "python",
   "name": "conda-env-Machine_learning_python2-py"
  },
  "language_info": {
   "codemirror_mode": {
    "name": "ipython",
    "version": 2
   },
   "file_extension": ".py",
   "mimetype": "text/x-python",
   "name": "python",
   "nbconvert_exporter": "python",
   "pygments_lexer": "ipython2",
   "version": "2.7.13"
  }
 },
 "nbformat": 4,
 "nbformat_minor": 1
}
